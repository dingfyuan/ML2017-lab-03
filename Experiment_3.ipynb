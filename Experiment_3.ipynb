{
 "cells": [
  {
   "cell_type": "code",
   "execution_count": 1,
   "metadata": {
    "collapsed": true
   },
   "outputs": [],
   "source": [
    "import os\n",
    "import cv2\n",
    "import numpy as np\n",
    "import pandas as pd\n",
    "import random  \n",
    "import pickle\n",
    "import matplotlib.pyplot as plt\n",
    "from sklearn.metrics import classification_report\n",
    "from sklearn.model_selection import train_test_split\n",
    "from sklearn.tree import DecisionTreeClassifier\n",
    "import sys\n",
    "sys.path.append(r\"D:\\ML2017-lab-03-master\")\n",
    "import ensemble\n",
    "import feature"
   ]
  },
  {
   "cell_type": "code",
   "execution_count": null,
   "metadata": {
    "collapsed": true
   },
   "outputs": [],
   "source": [
    "def getDataX(path):\n",
    "    \"\"\"\n",
    "    Inputs:\n",
    "    - path  : the path of the image\n",
    "    \n",
    "    Onputs:\n",
    "    - dataSetX :  a list indicating characteristic data\n",
    "    \"\"\"    \n",
    "    \n",
    "    newSize=[24,24]\n",
    "    dataSetX=[]\n",
    "    for filename in os.listdir(path):           # the parameter of  listdir is the path of the image\n",
    "        #print ( path+ filename )                # print the path of every file\n",
    "        img = cv2.imread(path+\"\\\\\"+ filename,cv2.IMREAD_GRAYSCALE)   # read the grayscale image   \n",
    "        if img is None:         \n",
    "            continue\n",
    "        res1= cv2.resize(img,(newSize[0],newSize[1])) # resize the img to 24 * 24 \n",
    "        #res1_1 = res1.reshape(1,24*24)/255   # 2D -> 1D ; norming\n",
    "        NPD=feature.NPDFeature(res1)   # Extract features using the NPDFeature class in feature.py. \n",
    "        feat=NPD.extract()             # extract NPD features\n",
    "        res2 = feat.tolist()           # matrix -> list\n",
    "        dataSetX.append(res2)          # append new list to the exisiting list  \n",
    "\n",
    "    return dataSetX\n",
    "    \n",
    "# Read the images ,extract NPD feature\n",
    "dataX=[]\n",
    "dataY=[]\n",
    "# when x is a face image , y is equal to 1\n",
    "face_x = getDataX(path=r\"D:\\ML2017-lab-03-master\\datasets\\original\\face\")\n",
    "dataX.append(face_x)\n",
    "dataY.append(np.ones(len(face_x))) \n",
    "# when x is a nonface image , y is equal to -1\n",
    "nonface_x = getDataX(path=r\"D:\\ML2017-lab-03-master\\datasets\\original\\nonface\")\n",
    "dataX.append(nonface_x)\n",
    "dataY.append(-1 * np.ones(len(nonface_x))) \n",
    "\n",
    "# Save the data\n",
    "with open('dataX.pickle', 'wb') as f:\n",
    "    # Pickle the 'data' dictionary using the highest protocol available.\n",
    "    pickle.dump(dataX, f, pickle.HIGHEST_PROTOCOL)\n",
    "with open('dataY.pickle', 'wb') as f:\n",
    "    # Pickle the 'data' dictionary using the highest protocol available.\n",
    "    pickle.dump(dataY, f, pickle.HIGHEST_PROTOCOL)\n"
   ]
  },
  {
   "cell_type": "code",
   "execution_count": 2,
   "metadata": {
    "collapsed": true
   },
   "outputs": [],
   "source": [
    "# Load the data\n",
    "with open('dataX.pickle', 'rb') as f:\n",
    "    # reads the characteristic data from cache\n",
    "    dataX = pickle.load(f)\n",
    "with open('dataY.pickle', 'rb') as f:\n",
    "    # reads the label data from cache\n",
    "    dataY = pickle.load(f)\n",
    "  \n",
    "# Data preprocessing\n",
    "# list -> array\n",
    "dataX = np.array(dataX) \n",
    "dataY = np.array(dataY)  \n",
    "# axis=0 means the array of the corresponding columns is spliced horizontally\n",
    "# axis=1 means the array of the corresponding rows is spliced vertically\n",
    "dataX = np.concatenate((dataX[0],dataX[1]),axis=0) \n",
    "dataY = np.concatenate((dataY[0],dataY[1]),axis=0) \n",
    "dataY = dataY.reshape((len(dataY),1)) #make sure the shape of the label data is (n_samples,1).\n",
    "\n",
    "# Devide dataset\n",
    "x_train, x_validation, y_train, y_validation = train_test_split(dataX, dataY, test_size=0.2, random_state=42)"
   ]
  },
  {
   "cell_type": "code",
   "execution_count": 3,
   "metadata": {},
   "outputs": [
    {
     "name": "stdout",
     "output_type": "stream",
     "text": [
      "total error:  0.0725\n",
      "total error:  0.0725\n",
      "total error:  0.0275\n",
      "total error:  0.03125\n",
      "total error:  0.005\n",
      "total error:  0.01\n",
      "total error:  0.0\n"
     ]
    }
   ],
   "source": [
    "# Training model\n",
    "model = ensemble.AdaBoostClassifier( weak_classifier=DecisionTreeClassifier, n_weakers_limit=40)\n",
    "model.fit(X=x_train,y=y_train)"
   ]
  },
  {
   "cell_type": "code",
   "execution_count": 4,
   "metadata": {
    "collapsed": true
   },
   "outputs": [],
   "source": [
    "# Predict\n",
    "y_train_pred=model.predict(X=x_train,threshold=0)\n",
    "y_validation_pred=model.predict(X=x_validation,threshold=0)"
   ]
  },
  {
   "cell_type": "code",
   "execution_count": 12,
   "metadata": {},
   "outputs": [
    {
     "name": "stdout",
     "output_type": "stream",
     "text": [
      "             precision    recall  f1-score   support\n",
      "\n",
      "    nonface       0.92      0.97      0.94       104\n",
      "       face       0.97      0.91      0.94        96\n",
      "\n",
      "avg / total       0.94      0.94      0.94       200\n",
      "\n"
     ]
    }
   ],
   "source": [
    "# Verify the accuracy on the validation set \n",
    "target_names = ['nonface', 'face']\n",
    "report=classification_report(y_validation, y_validation_pred, target_names=target_names)\n",
    "print(report)\n",
    "# Writes the predicted result to report.txt .\n",
    "f = open('report.txt', 'w')\n",
    "f.write(report)\n",
    "f.close()"
   ]
  },
  {
   "cell_type": "code",
   "execution_count": null,
   "metadata": {
    "collapsed": true
   },
   "outputs": [],
   "source": []
  }
 ],
 "metadata": {
  "kernelspec": {
   "display_name": "Python 3",
   "language": "python",
   "name": "python3"
  },
  "language_info": {
   "codemirror_mode": {
    "name": "ipython",
    "version": 3
   },
   "file_extension": ".py",
   "mimetype": "text/x-python",
   "name": "python",
   "nbconvert_exporter": "python",
   "pygments_lexer": "ipython3",
   "version": "3.6.3"
  }
 },
 "nbformat": 4,
 "nbformat_minor": 2
}
